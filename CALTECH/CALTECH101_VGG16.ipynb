{
  "nbformat": 4,
  "nbformat_minor": 0,
  "metadata": {
    "colab": {
      "name": "Caltech101-VGG19",
      "provenance": [],
      "collapsed_sections": []
    },
    "kernelspec": {
      "name": "python3",
      "display_name": "Python 3"
    },
    "accelerator": "GPU"
  },
  "cells": [
    {
      "cell_type": "code",
      "metadata": {
        "id": "kUM_aV0cKSUG"
      },
      "source": [
        "!pip install kaggle\n",
        "!mkdir -p ~/.kaggle"
      ],
      "execution_count": null,
      "outputs": []
    },
    {
      "cell_type": "code",
      "metadata": {
        "id": "kUFpzP5qKg9V"
      },
      "source": [
        "# Mount Drive to Google Colab\n",
        "from google.colab import files\n",
        "files.upload()"
      ],
      "execution_count": null,
      "outputs": []
    },
    {
      "cell_type": "code",
      "metadata": {
        "id": "tWBYlrifKm_9"
      },
      "source": [
        "# Connect to Kaggle\n",
        "!cp kaggle.json ~/.kaggle/\n",
        "!kaggle datasets download -d huangruichu/caltech101"
      ],
      "execution_count": null,
      "outputs": []
    },
    {
      "cell_type": "code",
      "metadata": {
        "id": "KQZkPBH3LMsg"
      },
      "source": [
        "# Unzip the downloaded Dataset\n",
        "!unzip /content/caltech101.zip"
      ],
      "execution_count": null,
      "outputs": []
    },
    {
      "cell_type": "code",
      "metadata": {
        "id": "rYUnaK4-gGlq"
      },
      "source": [
        "pip install scipy==1.1.0"
      ],
      "execution_count": null,
      "outputs": []
    },
    {
      "cell_type": "code",
      "metadata": {
        "id": "6DeI_3ffbKXG"
      },
      "source": [
        "import pandas as pd\n",
        "import numpy as np\n",
        "import os\n",
        "from glob import glob\n",
        "import itertools\n",
        "import fnmatch\n",
        "import random\n",
        "import matplotlib.pylab as plt\n",
        "import seaborn as sns\n",
        "import cv2\n",
        "from scipy.misc import imresize, imread\n",
        "import sklearn\n",
        "from sklearn import model_selection\n",
        "from sklearn.model_selection import train_test_split, KFold, cross_val_score, StratifiedKFold, learning_curve, GridSearchCV\n",
        "from sklearn.metrics import confusion_matrix, make_scorer, accuracy_score\n",
        "from sklearn.linear_model import LogisticRegression\n",
        "from sklearn.tree import DecisionTreeClassifier\n",
        "from sklearn.neighbors import KNeighborsClassifier\n",
        "from sklearn.discriminant_analysis import LinearDiscriminantAnalysis\n",
        "from sklearn.naive_bayes import GaussianNB\n",
        "from sklearn.svm import SVC, LinearSVC\n",
        "from sklearn.ensemble import RandomForestClassifier, GradientBoostingClassifier\n",
        "import keras\n",
        "from keras import backend as K\n",
        "from keras.callbacks import Callback, EarlyStopping, ReduceLROnPlateau, ModelCheckpoint\n",
        "from keras.preprocessing.image import ImageDataGenerator\n",
        "from keras.utils.np_utils import to_categorical\n",
        "from keras.models import Sequential, model_from_json\n",
        "from keras.optimizers import SGD, RMSprop, Adam, Adagrad, Adadelta\n",
        "from keras.layers import Dense, Dropout, Activation, Flatten, BatchNormalization, Conv2D, MaxPool2D, MaxPooling2D\n",
        "%matplotlib inline\n",
        "import tensorflow as tf\n",
        "import tensorflow_datasets as tfdb\n",
        "import keras\n",
        "from keras import callbacks\n",
        "from keras import optimizers\n",
        "from keras.engine import Model\n",
        "from keras.layers import Dropout, Flatten, Dense\n",
        "from tensorflow.keras.layers import BatchNormalization\n",
        "from keras.preprocessing.image import ImageDataGenerator\n",
        "from keras.utils import np_utils\n",
        "import scipy"
      ],
      "execution_count": null,
      "outputs": []
    },
    {
      "cell_type": "code",
      "metadata": {
        "id": "oQ_IKyBWWTmQ"
      },
      "source": [
        "# Load the Training Dataset\n",
        "def imread(path):\n",
        "    img = scipy.misc.imread(path).astype(np.float)\n",
        "    if len(img.shape) == 2:\n",
        "        img = np.transpose(np.array([img, img, img]), (2, 0, 1))\n",
        "    return img\n",
        "    \n",
        "path = '/content/Caltech101/Caltech101/train'\n",
        "valid_exts = [\".jpg\", \".gif\", \".png\", \".jpeg\"]\n",
        "print (\"[%d] CATEGORIES ARE IN \\n %s\" % (len(os.listdir(path)), path))\n",
        "\n",
        "categories = sorted(os.listdir(path))\n",
        "ncategories = len(categories)\n",
        "train = []\n",
        "train_labels = []\n",
        "# LOAD ALL IMAGES \n",
        "for i, category in enumerate(categories):\n",
        "    iter = 0\n",
        "    for f in os.listdir(path + \"/\" + category):\n",
        "        if iter == 0:\n",
        "            ext = os.path.splitext(f)[1]\n",
        "            if ext.lower() not in valid_exts:\n",
        "                continue\n",
        "            fullpath = os.path.join(path + \"/\" + category, f)\n",
        "            img = scipy.misc.imresize(imread(fullpath), [128,128, 3])\n",
        "            img = img.astype('float32')\n",
        "            img[:,:,0] -= 123.68\n",
        "            img[:,:,1] -= 116.78\n",
        "            img[:,:,2] -= 103.94\n",
        "            train.append(img) # NORMALIZE IMAGE \n",
        "            label_curr = i\n",
        "            train_labels.append(label_curr)\n",
        "        #iter = (iter+1)%10;\n",
        "print (\"Num train imgs: %d\" % (len(train)))\n",
        "print (\"Num train labels: %d\" % (len(train_labels)) )\n",
        "print (\"train catg=\",ncategories)"
      ],
      "execution_count": null,
      "outputs": []
    },
    {
      "cell_type": "code",
      "metadata": {
        "id": "SEYxddw1buHn"
      },
      "source": [
        "# Load the Test Dataset\n",
        "path = '/content/Caltech101/Caltech101/test'\n",
        "valid_exts = [\".jpg\", \".gif\", \".png\", \".jpeg\"]\n",
        "print (\"[%d] CATEGORIES ARE IN \\n %s\" % (len(os.listdir(path)), path))\n",
        "\n",
        "categories = sorted(os.listdir(path))\n",
        "ncategories = len(categories)\n",
        "test = []\n",
        "test_labels = []\n",
        "# LOAD ALL IMAGES \n",
        "for i, category in enumerate(categories):\n",
        "    iter = 0\n",
        "    for f in os.listdir(path + \"/\" + category):\n",
        "        if iter == 0:\n",
        "            ext = os.path.splitext(f)[1]\n",
        "            if ext.lower() not in valid_exts:\n",
        "                continue\n",
        "            fullpath = os.path.join(path + \"/\" + category, f)\n",
        "            img = scipy.misc.imresize(imread(fullpath), [128,128, 3])\n",
        "            img = img.astype('float32')\n",
        "            img[:,:,0] -= 123.68\n",
        "            img[:,:,1] -= 116.78\n",
        "            img[:,:,2] -= 103.94\n",
        "            test.append(img) # NORMALIZE IMAGE \n",
        "            label_curr = i\n",
        "            test_labels.append(label_curr)\n",
        "        #iter = (iter+1)%10;\n",
        "print (\"Num test imgs: %d\" % (len(test)))\n",
        "print (\"Num test labels: %d\" % (len(test_labels)) )\n",
        "print (\"test catg=\",ncategories)"
      ],
      "execution_count": null,
      "outputs": []
    },
    {
      "cell_type": "code",
      "metadata": {
        "id": "ddELsEr-buct"
      },
      "source": [
        "#Load the Validation Dataset\n",
        "path = '/content/Caltech101/Caltech101/eval'\n",
        "valid_exts = [\".jpg\", \".gif\", \".png\", \".jpeg\"]\n",
        "print (\"[%d] CATEGORIES ARE IN \\n %s\" % (len(os.listdir(path)), path))\n",
        "\n",
        "categories = sorted(os.listdir(path))\n",
        "ncategories = len(categories)\n",
        "vald = []\n",
        "vald_labels = []\n",
        "# LOAD ALL IMAGES \n",
        "for i, category in enumerate(categories):\n",
        "    iter = 0\n",
        "    for f in os.listdir(path + \"/\" + category):\n",
        "        if iter == 0:\n",
        "            ext = os.path.splitext(f)[1]\n",
        "            if ext.lower() not in valid_exts:\n",
        "                continue\n",
        "            fullpath = os.path.join(path + \"/\" + category, f)\n",
        "            img = scipy.misc.imresize(imread(fullpath), [128,128, 3])\n",
        "            img = img.astype('float32')\n",
        "            img[:,:,0] -= 123.68\n",
        "            img[:,:,1] -= 116.78\n",
        "            img[:,:,2] -= 103.94\n",
        "            vald.append(img) # NORMALIZE IMAGE \n",
        "            label_curr = i\n",
        "            vald_labels.append(label_curr)\n",
        "        #iter = (iter+1)%10;\n",
        "print (\"Num eval imgs: %d\" % (len(vald)))\n",
        "print (\"Num eval labels: %d\" % (len(vald_labels)) )\n",
        "print (\"eval catg= \",ncategories)"
      ],
      "execution_count": null,
      "outputs": []
    },
    {
      "cell_type": "code",
      "metadata": {
        "id": "3xpUm5rvCIiG"
      },
      "source": [
        "X_train= np.array(train)\n",
        "X_train= X_train/255.0\n",
        "print(X_train.shape)\n",
        "\n",
        "X_test= np.array(test)\n",
        "X_test= X_test/255.0\n",
        "print(X_test.shape)\n",
        "\n",
        "X_vald= np.array(vald)\n",
        "X_vald= X_vald/255.0\n",
        "print(X_vald.shape)"
      ],
      "execution_count": null,
      "outputs": []
    },
    {
      "cell_type": "code",
      "metadata": {
        "id": "nWOqeG4nPDvs"
      },
      "source": [
        "X_train = np.stack(X_train, axis=0)\n",
        "X_test = np.stack(X_test, axis=0)\n",
        "X_vald = np.stack(X_vald, axis=0)"
      ],
      "execution_count": null,
      "outputs": []
    },
    {
      "cell_type": "code",
      "metadata": {
        "id": "P4UzmlU6CFT1"
      },
      "source": [
        "# One hot Encoding\n",
        "from keras.utils.np_utils import to_categorical\n",
        "y_trainHot = to_categorical( train_labels, num_classes = 102)\n",
        "y_testHot = to_categorical( test_labels, num_classes = 102)\n",
        "y_valdHot = to_categorical( vald_labels, num_classes = 102)\n",
        "\n",
        "print(np.unique(train_labels))\n",
        "print(np.unique(test_labels))\n",
        "print(np.unique(vald_labels))"
      ],
      "execution_count": null,
      "outputs": []
    },
    {
      "cell_type": "code",
      "metadata": {
        "id": "LQMKsF3ECXlJ"
      },
      "source": [
        "#Downloading VGG 19 Model\n",
        "base_model = keras.applications.vgg19.VGG19(weights='imagenet', include_top=False, input_shape=(128,128, 3))"
      ],
      "execution_count": null,
      "outputs": []
    },
    {
      "cell_type": "code",
      "metadata": {
        "id": "oacjtqf0CfVV"
      },
      "source": [
        "last = base_model.get_layer('block5_pool').output\n",
        "# Adding classification layers on top of it\n",
        "x = BatchNormalization()\n",
        "x = BatchNormalization()\n",
        "\n",
        "\n",
        "x = Flatten()(last)\n",
        "\n",
        "x = Dense(1024, activation='relu')(x)\n",
        "x = Dropout(0.5)(x)\n",
        "x=  Dense(512, activation='relu')(x)\n",
        "x= Dense(256, activation='relu')(x)\n",
        "pred = Dense(102, activation='softmax')(x)\n",
        "\n",
        "model =Model(base_model.input, pred)\n"
      ],
      "execution_count": null,
      "outputs": []
    },
    {
      "cell_type": "code",
      "metadata": {
        "id": "IaFPtHiiC-cV"
      },
      "source": [
        "model.summary()"
      ],
      "execution_count": null,
      "outputs": []
    },
    {
      "cell_type": "code",
      "metadata": {
        "id": "-Xx_r_ezDClC"
      },
      "source": [
        "# Compiling the Model\n",
        "from keras.optimizers import SGD, RMSprop, Adam, Adagrad, Adadelta\n",
        "model.compile(loss='binary_crossentropy',\n",
        "              optimizer=keras.optimizers.SGD(lr=0.1, momentum=0.9),\n",
        "              metrics=['acc'])\n"
      ],
      "execution_count": null,
      "outputs": []
    },
    {
      "cell_type": "code",
      "metadata": {
        "id": "YK5r7yBfDGEE"
      },
      "source": [
        "a = X_train\n",
        "b = y_trainHot"
      ],
      "execution_count": null,
      "outputs": []
    },
    {
      "cell_type": "code",
      "metadata": {
        "id": "PR8_LPpjOi4v"
      },
      "source": [
        "datagen = ImageDataGenerator(\n",
        "    featurewise_center=False,  # set input mean to 0 over the dataset\n",
        "    samplewise_center=False,  # set each sample mean to 0\n",
        "    featurewise_std_normalization=False,  # divide inputs by std of the dataset\n",
        "    samplewise_std_normalization=False,  # divide each input by its std\n",
        "    zca_whitening=False,  # apply ZCA whitening\n",
        "    rotation_range=15,  # randomly rotate images in the range (degrees, 0 to 180)\n",
        "    width_shift_range=0.1,  # randomly shift images horizontally (fraction of total width)\n",
        "    height_shift_range=0.1,  # randomly shift images vertically (fraction of total height)\n",
        "    horizontal_flip=True,  # randomly flip images\n",
        "    vertical_flip=False)  # randomly flip images"
      ],
      "execution_count": null,
      "outputs": []
    },
    {
      "cell_type": "code",
      "metadata": {
        "id": "Wpbdg9iYDKWp"
      },
      "source": [
        "# Fitting the Model\n",
        "datagen.fit(a)\n",
        "batch_size = 128\n",
        "history = model.fit(a,b, epochs=20, batch_size=128, validation_data=(X_vald,y_valdHot))"
      ],
      "execution_count": null,
      "outputs": []
    },
    {
      "cell_type": "code",
      "metadata": {
        "id": "GS8upiIRsnPV"
      },
      "source": [
        "# Model Evaluation\n",
        "test_loss, test_acc = model.evaluate(X_test,y_testHot)\n",
        "print(\"Test Loss: \", test_loss*100)\n",
        "print(\"Test Accuracy: \", test_acc*100)"
      ],
      "execution_count": null,
      "outputs": []
    },
    {
      "cell_type": "code",
      "metadata": {
        "id": "5zGfb_ijvUfE"
      },
      "source": [
        "# Plotting Model Accuracy\n",
        "plt.plot(history.history['acc'], 'blue')\n",
        "plt.plot(history.history['val_acc'], 'orange')\n",
        "plt.title(\"Model Accuracyt\")\n",
        "plt.ylabel('Accuracy')\n",
        "plt.xlabel('Epoch')\n",
        "plt.legend(['Train', 'Validate'], loc='upper left')"
      ],
      "execution_count": null,
      "outputs": []
    },
    {
      "cell_type": "code",
      "metadata": {
        "id": "b6ruKHbDvUkF"
      },
      "source": [
        "print(\"VGG -Validation Loss: \", history.history['val_loss'][-1]*100)\n",
        "print(\"VGG - Validation Accuracy: \", history.history['val_acc'][-1]*100)\n",
        "print(\"\\n\")\n",
        "print(\"VGG - Training Loss: \", history.history['loss'][-1]*100)\n",
        "print(\"VGG - Training Accuracy: \", history.history['acc'][-1]*100)\n",
        "print(\"\\n\")"
      ],
      "execution_count": null,
      "outputs": []
    },
    {
      "cell_type": "code",
      "metadata": {
        "id": "u-Jnbt0uvUdg"
      },
      "source": [
        "# Plotting Model Loss\n",
        "plt.plot(history.history['loss'], 'blue')\n",
        "plt.plot(history.history['val_loss'], 'orange')\n",
        "plt.title(\"Model Loss for VGGNet\")\n",
        "plt.ylabel('Loss')\n",
        "plt.xlabel('Epoch')\n",
        "plt.legend(['Train', 'Validate'], loc='upper left')"
      ],
      "execution_count": null,
      "outputs": []
    },
    {
      "cell_type": "code",
      "metadata": {
        "id": "zL_YYqd6gw9V"
      },
      "source": [
        "from google.colab import drive\n",
        "drive.mount('/content/gdrive')"
      ],
      "execution_count": null,
      "outputs": []
    },
    {
      "cell_type": "code",
      "metadata": {
        "id": "Kngtlj4EFtSH"
      },
      "source": [
        "# Saving the model\n",
        "import h5py\n",
        "from keras.models import load_model\n",
        "model.save('/content/gdrive/My Drive/results/VGG 16/caltech101/model_vgg19-caltech101.h5')"
      ],
      "execution_count": null,
      "outputs": []
    },
    {
      "cell_type": "markdown",
      "metadata": {
        "id": "a62E9K0k7sWi"
      },
      "source": [
        "# Report"
      ]
    },
    {
      "cell_type": "code",
      "metadata": {
        "id": "tuVk8snj8VIk"
      },
      "source": [
        "# Evaluation Metrics\n",
        "target_names = []\n",
        "for i in range(101):\n",
        "    a = 'Object '\n",
        "    b = str(i)\n",
        "    c = a+b\n",
        "    c = [i]\n",
        "    target_names.append((a+b))\n",
        "\n",
        "def reports(X_test,y_test):\n",
        "    Y_pred = model.predict(X_test)\n",
        "    y_pred = np.argmax(Y_pred, axis=1)\n",
        "\n",
        "    classification = classification_report(np.argmax(y_test, axis=1), y_pred, target_names=target_names)\n",
        "    confusion = confusion_matrix(np.argmax(y_test, axis=1), y_pred)\n",
        "    score = model.evaluate(X_test, y_test, batch_size=32)\n",
        "    Test_Loss = score[0]*100\n",
        "    Test_accuracy = score[1]*100\n",
        "    kc=cohen_kappa_score(np.argmax(y_test, axis=1), y_pred)\n",
        "    #mse=mean_squared_error(y_test, y_pred)\n",
        "    #mae=mean_absolute_error(y_test, y_pred)\n",
        "    #precision=precision_score(y_test, y_pred, average='weighted')\n",
        "    #print(classification_report(y_test, y_pred, target_names=target_names))\n",
        "\n",
        "\n",
        "    \n",
        "    return classification, confusion, Test_Loss, Test_accuracy ,kc#,mse,mae"
      ],
      "execution_count": null,
      "outputs": []
    },
    {
      "cell_type": "code",
      "metadata": {
        "id": "Dgs_elOoHWQx"
      },
      "source": [
        "import warnings\n",
        "warnings.filterwarnings('ignore')"
      ],
      "execution_count": null,
      "outputs": []
    },
    {
      "cell_type": "code",
      "metadata": {
        "id": "zP97Tkzn7wwD"
      },
      "source": [
        "# Loading the Model\n",
        "#model = load_model('/content/gdrive/My Drive/wangdataset/model_hb.h5')\n",
        "from sklearn.metrics import classification_report, confusion_matrix,cohen_kappa_score\n",
        "from sklearn.metrics import mean_squared_error, mean_absolute_error, precision_score\n",
        "# calculate result, loss, accuray and confusion matrix\n",
        "classification, confusion, Test_loss, Test_accuracy,kc = reports(X_test,y_testHot)\n",
        "classification = str(classification)\n",
        "confusion_str = str(confusion)\n"
      ],
      "execution_count": null,
      "outputs": []
    },
    {
      "cell_type": "code",
      "metadata": {
        "id": "O_ASeTPx9I5V"
      },
      "source": [
        "print(\"confusion matrix: \")\n",
        "print('{}'.format(confusion_str))\n",
        "print(\"KAppa Coeefecient=\",kc)\n",
        "print('Test loss {} (%)'.format(Test_loss))\n",
        "print('Test accuracy {} (%)'.format(Test_accuracy))\n",
        "#print(\"Mean Squared error=\",mse)\n",
        "#print(\"Mean absolute error=\",mae)\n",
        "print(classification)"
      ],
      "execution_count": null,
      "outputs": []
    },
    {
      "cell_type": "code",
      "metadata": {
        "id": "bmwR10Tn9Lma"
      },
      "source": [
        "# Plotting the Confusion Matrix\n",
        "import matplotlib.pyplot as plt\n",
        "%matplotlib inline\n",
        "def plot_confusion_matrix(cm, classes,\n",
        "                          normalize=False,\n",
        "                          title='Confusion matrix',\n",
        "                          cmap=plt.get_cmap(\"Blues\")):\n",
        "    \"\"\"\n",
        "    This function prints and plots the confusion matrix.\n",
        "    Normalization can be applied by setting `normalize=True`.\n",
        "    \"\"\"\n",
        "    Normalized = cm.astype('float') / cm.sum(axis=1)[:, np.newaxis]\n",
        "    if normalize:\n",
        "        cm = Normalized\n",
        "        print(\"Normalized confusion matrix\")\n",
        "    else:\n",
        "        print('Confusion matrix, without normalization')\n",
        "\n",
        "    #print(cm)\n",
        "\n",
        "    plt.imshow(Normalized, interpolation='nearest', cmap=cmap)\n",
        "    plt.colorbar()\n",
        "    plt.title(title)\n",
        "    tick_marks = np.arange(len(classes))\n",
        "    plt.xticks(tick_marks, classes, rotation=90)\n",
        "    plt.yticks(tick_marks, classes)\n",
        "\n",
        "    fmt = '.4f' if normalize else 'd'\n",
        "    for i, j in itertools.product(range(cm.shape[0]), range(cm.shape[1])):\n",
        "        thresh = cm[i].max() / 2.\n",
        "        plt.text(j, i, format(cm[i, j], fmt),\n",
        "                 horizontalalignment=\"center\",\n",
        "                 color=\"white\" if cm[i, j] > thresh else \"black\")\n",
        "\n",
        "    plt.tight_layout()\n",
        "    plt.ylabel('True label')\n",
        "    plt.xlabel('Predicted label')\n",
        "\n",
        "\n",
        "plt.figure(figsize=(45,45))\n",
        "plot_confusion_matrix(confusion, classes=target_names, normalize=False, \n",
        "                      title='Confusion matrix, without normalization')\n",
        "#plt.savefig(\"/content/gdrive/My Drive/wangdataset/result/confusion_matrix_without_normalization.svg\")\n",
        "plt.show()\n",
        "plt.figure(figsize=(45,45))\n",
        "plot_confusion_matrix(confusion, classes=target_names, normalize=True, \n",
        "                      title='Normalized confusion matrix')\n",
        "#plt.savefig(\"/content/gdrive/My Drive/wangdataset/result/confusion_matrix_with_normalization.svg\")\n",
        "plt.show()"
      ],
      "execution_count": null,
      "outputs": []
    },
    {
      "cell_type": "code",
      "metadata": {
        "id": "NKgHF8GK7c-c"
      },
      "source": [
        "# summarize history for accuracy\n",
        "plt.plot(history.history['acc'])\n",
        "plt.plot(history.history['val_acc'])\n",
        "plt.title('model accuracy')\n",
        "plt.ylabel('accuracy')\n",
        "plt.xlabel('epoch')\n",
        "plt.grid(True)\n",
        "plt.legend(['train', 'test'], loc='upper left') \n",
        "plt.savefig(\"/content/gdrive/My Drive/wangdataset/model_accuracy_100.svg\")\n",
        "plt.show()\n",
        "\n",
        "# summarize history for loss \n",
        "plt.plot(history.history['loss'])\n",
        "plt.plot(history.history['val_loss'])\n",
        "plt.title('model loss')\n",
        "plt.ylabel('loss')\n",
        "plt.xlabel('epoch')\n",
        "plt.grid(True)\n",
        "plt.legend(['train', 'test'], loc='upper left') \n",
        "plt.savefig(\"/content/gdrive/My Drive/wangdataset/model_loss_100.svg\")\n",
        "plt.show()"
      ],
      "execution_count": null,
      "outputs": []
    },
    {
      "cell_type": "code",
      "metadata": {
        "id": "89YAA88cXqJh"
      },
      "source": [
        "C= confusion / confusion.astype(np.float).sum(axis=1)\n",
        "print(confusion)\n",
        "print(C)\n",
        "C=C*100\n",
        "print(C)\n",
        "a = [0] * 100\n",
        "for i in range(0,99):\n",
        "  a[i]=C[i][i]\n",
        "  "
      ],
      "execution_count": null,
      "outputs": []
    },
    {
      "cell_type": "code",
      "metadata": {
        "id": "PO9K8yHUZtRq"
      },
      "source": [
        "pd.DataFrame(a).to_csv(\"/content/gdrive/My Drive/COIL 100/class_accuracy.csv\")"
      ],
      "execution_count": null,
      "outputs": []
    }
  ]
}
