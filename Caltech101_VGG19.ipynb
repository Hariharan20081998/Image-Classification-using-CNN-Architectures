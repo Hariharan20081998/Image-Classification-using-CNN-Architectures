{
  "nbformat": 4,
  "nbformat_minor": 0,
  "metadata": {
    "kernelspec": {
      "language": "python",
      "display_name": "Python 3",
      "name": "python3"
    },
    "language_info": {
      "pygments_lexer": "ipython3",
      "nbconvert_exporter": "python",
      "version": "3.6.4",
      "file_extension": ".py",
      "codemirror_mode": {
        "name": "ipython",
        "version": 3
      },
      "name": "python",
      "mimetype": "text/x-python"
    },
    "colab": {
      "name": "Caltech101 VGG19.ipynb",
      "provenance": [],
      "collapsed_sections": []
    },
    "accelerator": "GPU"
  },
  "cells": [
    {
      "cell_type": "code",
      "metadata": {
        "_uuid": "8f2839f25d086af736a60e9eeb907d3b93b6e0e5",
        "_cell_guid": "b1076dfc-b9ad-4769-8c92-a6c4dae69d19",
        "trusted": true,
        "id": "6gfrQ5yx5Ig5"
      },
      "source": [
        "!pip install -U -q kaggle"
      ],
      "execution_count": null,
      "outputs": []
    },
    {
      "cell_type": "code",
      "metadata": {
        "id": "EoZX3eeF5ffI"
      },
      "source": [
        "!mkdir -p ~/.kaggle"
      ],
      "execution_count": null,
      "outputs": []
    },
    {
      "cell_type": "code",
      "metadata": {
        "id": "YhSeMp-C5g0s"
      },
      "source": [
        "# Mounting Google Drive\n",
        "from google.colab import files\n",
        "files.upload()"
      ],
      "execution_count": null,
      "outputs": []
    },
    {
      "cell_type": "code",
      "metadata": {
        "id": "y6Z9tc165jT7"
      },
      "source": [
        "#Downloading the Dataset from Kaggle\n",
        "!cp kaggle.json ~/.kaggle/\n",
        "!chmod 600 /root/.kaggle/kaggle.json"
      ],
      "execution_count": null,
      "outputs": []
    },
    {
      "cell_type": "code",
      "metadata": {
        "id": "xmJVos5q5kog"
      },
      "source": [
        "!kaggle datasets download -d nancychen0129/caltech101\n",
        "!unzip /content/caltech101.zip"
      ],
      "execution_count": null,
      "outputs": []
    },
    {
      "cell_type": "code",
      "metadata": {
        "trusted": true,
        "id": "wrAhka295IhB"
      },
      "source": [
        "import pandas as pd\n",
        "import numpy as np\n",
        "import os\n",
        "from glob import glob\n",
        "import itertools\n",
        "import fnmatch\n",
        "import random\n",
        "import matplotlib.pylab as plt\n",
        "import seaborn as sns\n",
        "import cv2\n",
        "import sklearn\n",
        "from sklearn import model_selection\n",
        "from sklearn.model_selection import train_test_split, KFold, cross_val_score, StratifiedKFold, learning_curve, GridSearchCV\n",
        "from sklearn.metrics import confusion_matrix, make_scorer, accuracy_score\n",
        "from sklearn.linear_model import LogisticRegression\n",
        "from sklearn.tree import DecisionTreeClassifier\n",
        "from sklearn.neighbors import KNeighborsClassifier\n",
        "from sklearn.discriminant_analysis import LinearDiscriminantAnalysis\n",
        "from sklearn.naive_bayes import GaussianNB\n",
        "from sklearn.svm import SVC, LinearSVC\n",
        "from sklearn.ensemble import RandomForestClassifier, GradientBoostingClassifier\n",
        "import keras\n",
        "from keras import backend as K\n",
        "from keras.callbacks import Callback, EarlyStopping, ReduceLROnPlateau, ModelCheckpoint\n",
        "from keras.preprocessing.image import ImageDataGenerator\n",
        "from keras.utils.np_utils import to_categorical\n",
        "from keras.models import Sequential, model_from_json\n",
        "from keras.optimizers import SGD, RMSprop, Adam, Adagrad, Adadelta\n",
        "from keras.layers import Dense, Dropout, Activation, Flatten, BatchNormalization, Conv2D, MaxPool2D, MaxPooling2D\n",
        "%matplotlib inline\n",
        "import tensorflow as tf\n",
        "import tensorflow_datasets as tfdb\n",
        "import keras\n",
        "from keras import callbacks\n",
        "from keras import optimizers\n",
        "from keras.engine import Model\n",
        "from keras.layers import Dropout, Flatten, Dense\n",
        "from tensorflow.keras.layers import BatchNormalization\n",
        "from keras.preprocessing.image import ImageDataGenerator\n",
        "from keras.utils import np_utils\n",
        "import scipy\n",
        "import imageio\n",
        "import skimage.transform"
      ],
      "execution_count": null,
      "outputs": []
    },
    {
      "cell_type": "code",
      "metadata": {
        "trusted": true,
        "id": "6YCRjKGH5IhE"
      },
      "source": [
        "# Loading the Training Dataset\n",
        "def imread(path):\n",
        "    img = imageio.imread(path).astype(np.float)\n",
        "    if len(img.shape) == 2:\n",
        "        img = np.transpose(np.array([img, img, img]), (2, 0, 1))\n",
        "    return img\n",
        "    \n",
        "path = '/content/Caltech101/train'\n",
        "valid_exts = [\".jpg\", \".gif\", \".png\", \".jpeg\"]\n",
        "print (\"[%d] CATEGORIES ARE IN \\n %s\" % (len(os.listdir(path)), path))\n",
        "\n",
        "categories = sorted(os.listdir(path))\n",
        "ncategories = len(categories)\n",
        "train = []\n",
        "train_labels = []\n",
        "# LOAD ALL IMAGES \n",
        "for i, category in enumerate(categories):\n",
        "    iter = 0\n",
        "    for f in os.listdir(path + \"/\" + category):\n",
        "        if iter == 0:\n",
        "            ext = os.path.splitext(f)[1]\n",
        "            if ext.lower() not in valid_exts:\n",
        "                continue\n",
        "            fullpath = os.path.join(path + \"/\" + category, f)\n",
        "            img = skimage.transform.imresize(imageioimread(fullpath), [32,32, 3])\n",
        "            img = img.astype('float32')\n",
        "            img[:,:,0] -= 123.68\n",
        "            img[:,:,1] -= 116.78\n",
        "            img[:,:,2] -= 103.94\n",
        "            train.append(img) # NORMALIZE IMAGE \n",
        "            label_curr = i\n",
        "            train_labels.append(label_curr)\n",
        "        #iter = (iter+1)%10;\n",
        "print (\"Num imgs: %d\" % (len(train)))\n",
        "print (\"Num labels: %d\" % (len(train_labels)) )\n",
        "print (ncategories)"
      ],
      "execution_count": null,
      "outputs": []
    },
    {
      "cell_type": "code",
      "metadata": {
        "trusted": true,
        "id": "FJEqSkzn5IhG"
      },
      "source": [
        "# Loading the Test Dataset\n",
        "def imread(path):\n",
        "    img = scipy.misc.imread(path).astype(np.float)\n",
        "    if len(img.shape) == 2:\n",
        "        img = np.transpose(np.array([img, img, img]), (2, 0, 1))\n",
        "    return img\n",
        "    \n",
        "path = '/content/Caltech101/test'\n",
        "valid_exts = [\".jpg\", \".gif\", \".png\", \".jpeg\"]\n",
        "print (\"[%d] CATEGORIES ARE IN \\n %s\" % (len(os.listdir(path)), path))\n",
        "\n",
        "categories = sorted(os.listdir(path))\n",
        "ncategories = len(categories)\n",
        "test = []\n",
        "test_labels = []\n",
        "# LOAD ALL IMAGES \n",
        "for i, category in enumerate(categories):\n",
        "    iter = 0\n",
        "    for f in os.listdir(path + \"/\" + category):\n",
        "        if iter == 0:\n",
        "            ext = os.path.splitext(f)[1]\n",
        "            if ext.lower() not in valid_exts:\n",
        "                continue\n",
        "            fullpath = os.path.join(path + \"/\" + category, f)\n",
        "            img = skimage.transform.imresize(imread(fullpath), [32,32, 3])\n",
        "            img = img.astype('float32')\n",
        "            img[:,:,0] -= 123.68\n",
        "            img[:,:,1] -= 116.78\n",
        "            img[:,:,2] -= 103.94\n",
        "            test.append(img) # NORMALIZE IMAGE \n",
        "            label_curr = i\n",
        "            test_labels.append(label_curr)\n",
        "        #iter = (iter+1)%10;\n",
        "print (\"Num imgs: %d\" % (len(test)))\n",
        "print (\"Num labels: %d\" % (len(test_labels)) )\n",
        "print (ncategories)"
      ],
      "execution_count": null,
      "outputs": []
    },
    {
      "cell_type": "code",
      "metadata": {
        "trusted": true,
        "id": "l1H7UvLY5IhK"
      },
      "source": [
        "# Loading the Evaluation Dataset\n",
        "def imread(path):\n",
        "    img = scipy.misc.imread(path).astype(np.float)\n",
        "    if len(img.shape) == 2:\n",
        "        img = np.transpose(np.array([img, img, img]), (2, 0, 1))\n",
        "    return img\n",
        "    \n",
        "path = '/content/Caltech101/eval'\n",
        "valid_exts = [\".jpg\", \".gif\", \".png\", \".jpeg\"]\n",
        "print (\"[%d] CATEGORIES ARE IN \\n %s\" % (len(os.listdir(path)), path))\n",
        "\n",
        "categories = sorted(os.listdir(path))\n",
        "ncategories = len(categories)\n",
        "vald = []\n",
        "vald_labels = []\n",
        "# LOAD ALL IMAGES \n",
        "for i, category in enumerate(categories):\n",
        "    iter = 0\n",
        "    for f in os.listdir(path + \"/\" + category):\n",
        "        if iter == 0:\n",
        "            ext = os.path.splitext(f)[1]\n",
        "            if ext.lower() not in valid_exts:\n",
        "                continue\n",
        "            fullpath = os.path.join(path + \"/\" + category, f)\n",
        "            img = scipy.misc.imresize(imread(fullpath), [32,32, 3])\n",
        "            img = img.astype('float32')\n",
        "            img[:,:,0] -= 123.68\n",
        "            img[:,:,1] -= 116.78\n",
        "            img[:,:,2] -= 103.94\n",
        "            vald.append(img) # NORMALIZE IMAGE \n",
        "            label_curr = i\n",
        "            vald_labels.append(label_curr)\n",
        "        #iter = (iter+1)%10;\n",
        "print (\"Num imgs: %d\" % (len(vald)))\n",
        "print (\"Num labels: %d\" % (len(vald_labels)) )\n",
        "print (ncategories)"
      ],
      "execution_count": null,
      "outputs": []
    },
    {
      "cell_type": "code",
      "metadata": {
        "trusted": true,
        "id": "LaVR4tE25IhP"
      },
      "source": [
        "X_train= np.array(train)\n",
        "X_train= X_train/255.0\n",
        "\n",
        "X_test= np.array(test)\n",
        "X_test= X_test/255.0\n",
        "\n",
        "X_vald= np.array(vald)\n",
        "X_vald= X_vald/255.0"
      ],
      "execution_count": null,
      "outputs": []
    },
    {
      "cell_type": "code",
      "metadata": {
        "trusted": true,
        "id": "NbI6M__r5IhV"
      },
      "source": [
        "X_train = np.stack(X_train, axis=0)\n",
        "X_test = np.stack(X_test, axis=0)\n",
        "X_vald = np.stack(X_vald, axis=0)"
      ],
      "execution_count": null,
      "outputs": []
    },
    {
      "cell_type": "code",
      "metadata": {
        "trusted": true,
        "id": "fwTFfsWn5IhY"
      },
      "source": [
        "#One Hot Encoding\n",
        "from keras.utils.np_utils import to_categorical\n",
        "y_trainHot = to_categorical( train_labels, num_classes = 102)\n",
        "y_testHot = to_categorical( test_labels, num_classes = 102)\n",
        "y_valdHot = to_categorical( vald_labels, num_classes = 102)"
      ],
      "execution_count": null,
      "outputs": []
    },
    {
      "cell_type": "code",
      "metadata": {
        "trusted": true,
        "id": "p8TOCbCV5Ihd"
      },
      "source": [
        "#Loading the VGG 19 Model\n",
        "base_model = keras.applications.vgg19.VGG19(weights='imagenet', include_top=False, input_shape=(32,32, 3))"
      ],
      "execution_count": null,
      "outputs": []
    },
    {
      "cell_type": "code",
      "metadata": {
        "trusted": true,
        "id": "bghFtlN85Ihj"
      },
      "source": [
        "last = base_model.get_layer('block5_pool').output\n",
        "# Add classification layers on top of it\n",
        "x = BatchNormalization()\n",
        "x = BatchNormalization()\n",
        "\n",
        "\n",
        "x = Flatten()(last)\n",
        "x= Dense(256, activation='relu')(x)\n",
        "x = Dropout(0.5)(x)\n",
        "\n",
        "pred = Dense(102, activation='softmax')(x)\n",
        "\n",
        "model =Model(base_model.input, pred)"
      ],
      "execution_count": null,
      "outputs": []
    },
    {
      "cell_type": "code",
      "metadata": {
        "trusted": true,
        "id": "IyKhYgtX5Iho"
      },
      "source": [
        "model.summary()"
      ],
      "execution_count": null,
      "outputs": []
    },
    {
      "cell_type": "code",
      "metadata": {
        "trusted": true,
        "id": "4KkGz4Jw5Ihs"
      },
      "source": [
        "#Compiling the Model\n",
        "from keras.optimizers import SGD, RMSprop, Adam, Adagrad, Adadelta\n",
        "model.compile(loss='binary_crossentropy',\n",
        "              optimizer=keras.optimizers.SGD(lr=1e-3, momentum=0.9),\n",
        "              metrics=['accuracy'])"
      ],
      "execution_count": null,
      "outputs": []
    },
    {
      "cell_type": "code",
      "metadata": {
        "trusted": true,
        "id": "eAOlD8bN5Ihx"
      },
      "source": [
        "a = X_train\n",
        "b = y_trainHot"
      ],
      "execution_count": null,
      "outputs": []
    },
    {
      "cell_type": "code",
      "metadata": {
        "trusted": true,
        "id": "7j2GcEFY5Ih0"
      },
      "source": [
        "# Fitting the Model\n",
        "history = model.fit(a, b, epochs=300, batch_size=128, validation_data=(X_vald,y_valdHot))"
      ],
      "execution_count": null,
      "outputs": []
    },
    {
      "cell_type": "code",
      "metadata": {
        "trusted": true,
        "id": "FqlddRM_5Ih7"
      },
      "source": [
        "# Evaluation Metrics\n",
        "test_loss, test_acc = model.evaluate(X_test,y_testHot)\n",
        "print(\"Test Loss: \", test_loss*100)\n",
        "print(\"Test Accuracy: \", test_acc*100)"
      ],
      "execution_count": null,
      "outputs": []
    },
    {
      "cell_type": "code",
      "metadata": {
        "trusted": true,
        "id": "LAEFFMHm5IiB"
      },
      "source": [
        "# Plot Model Accuracy\n",
        "plt.plot(history.history['accuracy'], 'blue')\n",
        "plt.plot(history.history['val_accuracy'], 'orange')\n",
        "plt.title(\"Model Accuracy\")\n",
        "plt.ylabel('Accuracy')\n",
        "plt.xlabel('Epoch')\n",
        "plt.legend(['Train', 'Validate'], loc='upper left')\n",
        "plt.savefig(\"/content/drive/My Drive/results/VGG 19/caltech101/Model Accuracy.png\")\n",
        "\n",
        "print(\"VGG -Validation Loss: \", history.history['val_loss'][-1]*100)\n",
        "print(\"VGG - Validation Accuracy: \", history.history['val_accuracy'][-1]*100)\n",
        "print(\"\\n\")\n",
        "print(\"VGG - Training Loss: \", history.history['loss'][-1]*100)\n",
        "print(\"VGG - Training Accuracy: \", history.history['accuracy'][-1]*100)\n",
        "print(\"\\n\")"
      ],
      "execution_count": null,
      "outputs": []
    },
    {
      "cell_type": "code",
      "metadata": {
        "trusted": true,
        "id": "xqCw--K65IiF"
      },
      "source": [
        "# Plot Model Loss\n",
        "plt.plot(history.history['loss'], 'blue')\n",
        "plt.plot(history.history['val_loss'], 'orange')\n",
        "plt.title(\"Model Loss for VGGNet\")\n",
        "plt.ylabel('Loss')\n",
        "plt.xlabel('Epoch')\n",
        "plt.legend(['Train', 'Validate'], loc='upper left')\n",
        "plt.savefig(\"/content/drive/My Drive/results/VGG 19/caltech101/Model Loss.png\")"
      ],
      "execution_count": null,
      "outputs": []
    },
    {
      "cell_type": "code",
      "metadata": {
        "id": "yuphtXTM3H-V"
      },
      "source": [
        "from google.colab import drive\n",
        "drive.mount('/content/drive')"
      ],
      "execution_count": null,
      "outputs": []
    },
    {
      "cell_type": "code",
      "metadata": {
        "trusted": true,
        "id": "VnqmwY1_5IiK"
      },
      "source": [
        "#Save the Model\n",
        "from tensorflow.keras import Model\n",
        "import h5py\n",
        "from keras.models import load_model\n",
        "model.save('/content/drive/My Drive/results/VGG 19/caltech101/caltech101-vgg19.h5')"
      ],
      "execution_count": null,
      "outputs": []
    },
    {
      "cell_type": "code",
      "metadata": {
        "id": "U1SS136PEVtY"
      },
      "source": [
        "# Predicting the Model \n",
        "output = model.predict(X_test)\n",
        "output = np.argmax(np.round(output),axis=1)"
      ],
      "execution_count": null,
      "outputs": []
    },
    {
      "cell_type": "code",
      "metadata": {
        "id": "Z7GMX7kcErdS"
      },
      "source": [
        "print(np.unique(output))\n",
        "set(test_labels) - set(output)"
      ],
      "execution_count": null,
      "outputs": []
    },
    {
      "cell_type": "code",
      "metadata": {
        "trusted": true,
        "id": "7gL7u4fA5IiN"
      },
      "source": [
        "# Evaluation Metrics\n",
        "target_names = []\n",
        "for i in range(101):\n",
        "    a = 'Object '\n",
        "    b = str(i)\n",
        "    c = a+b\n",
        "    c = [i]\n",
        "    target_names.append((a+b))\n",
        "\n",
        "def reports(X_test,y_test):\n",
        "    Y_pred = model.predict(X_test)\n",
        "    y_pred = np.argmax(Y_pred, axis=1)\n",
        "\n",
        "    classification = classification_report(np.argmax(y_test, axis=1), y_pred, target_names=target_names)\n",
        "    confusion = confusion_matrix(np.argmax(y_test, axis=1), y_pred)\n",
        "    score = model.evaluate(X_test, y_test, batch_size=32)\n",
        "    Test_Loss = score[0]*100\n",
        "    Test_accuracy = score[1]*100\n",
        "    kc=cohen_kappa_score(np.argmax(y_test, axis=1), y_pred)\n",
        "    #mse=mean_squared_error(y_test, y_pred)\n",
        "    #mae=mean_absolute_error(y_test, y_pred)\n",
        "    #precision=precision_score(y_test, y_pred, average='weighted')\n",
        "    #print(classification_report(y_test, y_pred, target_names=target_names))\n",
        "\n",
        "\n",
        "    \n",
        "    return classification, confusion, Test_Loss, Test_accuracy ,kc#,mse,mae"
      ],
      "execution_count": null,
      "outputs": []
    },
    {
      "cell_type": "code",
      "metadata": {
        "trusted": true,
        "id": "1TPax_WE5IiS"
      },
      "source": [
        "from sklearn.metrics import classification_report, confusion_matrix,cohen_kappa_score\n",
        "from sklearn.metrics import mean_squared_error, mean_absolute_error, precision_score\n",
        "# calculate result, loss, accuray and confusion matrix\n",
        "classification, confusion, Test_loss, Test_accuracy,kc = reports(X_test,y_testHot)\n",
        "classification = str(classification)\n",
        "confusion_str = str(confusion)"
      ],
      "execution_count": null,
      "outputs": []
    },
    {
      "cell_type": "code",
      "metadata": {
        "trusted": true,
        "id": "LlFEO7T05IiV"
      },
      "source": [
        "print(\"confusion matrix: \")\n",
        "print('{}'.format(confusion_str))\n",
        "print(\"KAppa Coeefecient=\",kc)\n",
        "print('Test loss {} (%)'.format(Test_loss))\n",
        "print('Test accuracy {} (%)'.format(Test_accuracy))\n",
        "#print(\"Mean Squared error=\",mse)\n",
        "#print(\"Mean absolute error=\",mae)\n",
        "print(classification)"
      ],
      "execution_count": null,
      "outputs": []
    },
    {
      "cell_type": "code",
      "metadata": {
        "trusted": true,
        "id": "CqPDcsFr5IiX"
      },
      "source": [
        "#Plotting the Confusion Matrix\n",
        "import matplotlib.pyplot as plt\n",
        "%matplotlib inline\n",
        "def plot_confusion_matrix(cm, classes,\n",
        "                          normalize=False,\n",
        "                          title='Confusion matrix',\n",
        "                          cmap=plt.get_cmap(\"Blues\")):\n",
        "    \"\"\"\n",
        "    This function prints and plots the confusion matrix.\n",
        "    Normalization can be applied by setting `normalize=True`.\n",
        "    \"\"\"\n",
        "    Normalized = cm.astype('float') / cm.sum(axis=1)[:, np.newaxis]\n",
        "    if normalize:\n",
        "        cm = Normalized\n",
        "        print(\"Normalized confusion matrix\")\n",
        "    else:\n",
        "        print('Confusion matrix, without normalization')\n",
        "\n",
        "    #print(cm)\n",
        "\n",
        "    plt.imshow(Normalized, interpolation='nearest', cmap=cmap)\n",
        "    plt.colorbar()\n",
        "    plt.title(title)\n",
        "    tick_marks = np.arange(len(classes))\n",
        "    plt.xticks(tick_marks, classes, rotation=90)\n",
        "    plt.yticks(tick_marks, classes)\n",
        "\n",
        "    fmt = '.2f' if normalize else 'd'\n",
        "    for i, j in itertools.product(range(cm.shape[0]), range(cm.shape[1])):\n",
        "        thresh = cm[i].max() / 2.\n",
        "        plt.text(j, i*100, format(cm[i, j], fmt),\n",
        "                 horizontalalignment=\"center\",\n",
        "                 color=\"white\" if cm[i, j] > thresh else \"black\")\n",
        "\n",
        "    plt.tight_layout()\n",
        "    plt.ylabel('True label')\n",
        "    plt.xlabel('Predicted label')\n",
        "\n",
        "\n",
        "plt.figure(figsize=(45,45))\n",
        "plot_confusion_matrix(confusion, classes=target_names, normalize=False, \n",
        "                      title='Confusion matrix, without normalization')\n",
        "plt.savefig(\"/content/drive/My Drive/results/VGG 19/caltech101/confusion_matrix_without_normalization.png\")\n",
        "plt.show()\n",
        "plt.figure(figsize=(45,45))\n",
        "plot_confusion_matrix(confusion, classes=target_names, normalize=True, \n",
        "                      title='Normalized confusion matrix')\n",
        "plt.savefig(\"/content/drive/My Drive/results/VGG 19/caltech101/confusion_matrix_with_normalization.png\")\n",
        "plt.show()"
      ],
      "execution_count": null,
      "outputs": []
    }
  ]
}